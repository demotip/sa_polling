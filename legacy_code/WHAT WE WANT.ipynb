{
 "cells": [
  {
   "cell_type": "code",
   "execution_count": 1,
   "metadata": {
    "collapsed": true
   },
   "outputs": [],
   "source": [
    "from apps.mongo_connect import mongo_connect\n",
    "import pandas as pd\n",
    "import numpy as np\n",
    "CONNECT = mongo_connect"
   ]
  },
  {
   "cell_type": "code",
   "execution_count": 2,
   "metadata": {
    "collapsed": false
   },
   "outputs": [
    {
     "name": "stdout",
     "output_type": "stream",
     "text": [
      "5136\n"
     ]
    }
   ],
   "source": [
    "conn, db, conversation, raw = CONNECT()\n",
    "print conversation.find().count()\n",
    "conn.close()"
   ]
  },
  {
   "cell_type": "markdown",
   "metadata": {},
   "source": [
    "# PROXIES FOR PARTICIPATION\n",
    "total amount of time the pern spent in the system.\n",
    "\n",
    "to scale peoples contact with the system\n",
    "\n",
    "the number of logins in the period of time they could have logged in "
   ]
  }
 ],
 "metadata": {
  "kernelspec": {
   "display_name": "Python [Root]",
   "language": "python",
   "name": "Python [Root]"
  },
  "language_info": {
   "codemirror_mode": {
    "name": "ipython",
    "version": 2
   },
   "file_extension": ".py",
   "mimetype": "text/x-python",
   "name": "python",
   "nbconvert_exporter": "python",
   "pygments_lexer": "ipython2",
   "version": "2.7.12"
  }
 },
 "nbformat": 4,
 "nbformat_minor": 2
}
