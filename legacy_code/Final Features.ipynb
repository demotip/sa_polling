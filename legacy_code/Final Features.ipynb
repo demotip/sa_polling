{
 "cells": [
  {
   "cell_type": "code",
   "execution_count": 1,
   "metadata": {
    "collapsed": true
   },
   "outputs": [],
   "source": [
    "import os\n",
    "import pandas as pd\n",
    "import pymongo\n",
    "from sshtunnel import SSHTunnelForwarder\n",
    "from datetime import datetime, timedelta\n",
    "from pymongo import MongoClient"
   ]
  },
  {
   "cell_type": "code",
   "execution_count": 2,
   "metadata": {
    "collapsed": true
   },
   "outputs": [],
   "source": [
    "TIME_STAMP_FORMAT = \"%Y-%m-%d %H:%M:%S.%f\""
   ]
  },
  {
   "cell_type": "code",
   "execution_count": 3,
   "metadata": {
    "collapsed": true
   },
   "outputs": [],
   "source": [
    "def mongo_connect():\n",
    "    # Try to connect to MongoDB,  exit if not successful.\n",
    "    try:\n",
    "        conn = MongoClient('localhost', 27018)\n",
    "        # print \"Connected successfully to MongoDB, instance created!\"\n",
    "\n",
    "    except(pymongo.errors.ConnectionFailure, e):\n",
    "        print(\"Could not connect to MongoDB: {}\".format(e))\n",
    "\n",
    "    name = 'SA_Voting_Data'\n",
    "    db = conn[name]  \n",
    "    conversations = db.conversations_collection\n",
    "    raw = db.raw_collection\n",
    "    features = db.features_collection\n",
    "\n",
    "    return conn, db, conversations, raw, features"
   ]
  },
  {
   "cell_type": "code",
   "execution_count": 4,
   "metadata": {
    "collapsed": true
   },
   "outputs": [],
   "source": [
    "def get_addresses():\n",
    "    conn, db, conversations, raw, features = mongo_connect()\n",
    "    try:\n",
    "        c = conversations.distinct('poi')\n",
    "    finally:\n",
    "        conn.close()\n",
    "    \n",
    "    return list(c)\n",
    "\n",
    "def get_conversation(poi):\n",
    "    conn, db, conversations, raw, features = mongo_connect()\n",
    "    try:\n",
    "        c = conversations.find({'poi': poi})\n",
    "    finally:\n",
    "        conn.close()\n",
    "    df = pd.DataFrame(list(c))\n",
    "    header = ['poi','content','from_addr','to_addr','transport_type','transport_name','session_event','_id']\n",
    "    df = df.set_index('timestamp')\n",
    "    \n",
    "    # we drop duplicates of timestamp which is the index\n",
    "    df = df[~df.index.duplicated(keep='first')]\n",
    "    return df[header]"
   ]
  },
  {
   "cell_type": "code",
   "execution_count": 5,
   "metadata": {
    "collapsed": true
   },
   "outputs": [],
   "source": [
    "addresses = get_addresses()"
   ]
  },
  {
   "cell_type": "code",
   "execution_count": 6,
   "metadata": {
    "collapsed": true
   },
   "outputs": [],
   "source": [
    "conn, db, conversations, raw, features = mongo_connect()\n",
    "try:\n",
    "    c = conversations.find({'poi': {'$in': addresses[0:100]}})\n",
    "    df = pd.DataFrame(list(c))\n",
    "except:\n",
    "    conn.close()"
   ]
  },
  {
   "cell_type": "code",
   "execution_count": 7,
   "metadata": {
    "collapsed": true
   },
   "outputs": [],
   "source": [
    "from features.utils import make_payload, setup_conversation"
   ]
  },
  {
   "cell_type": "code",
   "execution_count": 8,
   "metadata": {},
   "outputs": [
    {
     "data": {
      "text/html": [
       "<div>\n",
       "<style>\n",
       "    .dataframe thead tr:only-child th {\n",
       "        text-align: right;\n",
       "    }\n",
       "\n",
       "    .dataframe thead th {\n",
       "        text-align: left;\n",
       "    }\n",
       "\n",
       "    .dataframe tbody tr th {\n",
       "        vertical-align: top;\n",
       "    }\n",
       "</style>\n",
       "<table border=\"1\" class=\"dataframe\">\n",
       "  <thead>\n",
       "    <tr style=\"text-align: right;\">\n",
       "      <th></th>\n",
       "      <th>_id</th>\n",
       "      <th>content</th>\n",
       "      <th>from_addr</th>\n",
       "      <th>from_addr_type</th>\n",
       "      <th>group</th>\n",
       "      <th>helper_metadata</th>\n",
       "      <th>in_reply_to</th>\n",
       "      <th>inbound_push_trigger</th>\n",
       "      <th>message_id</th>\n",
       "      <th>message_type</th>\n",
       "      <th>...</th>\n",
       "      <th>poi</th>\n",
       "      <th>provider</th>\n",
       "      <th>routing_metadata</th>\n",
       "      <th>session_event</th>\n",
       "      <th>timestamp</th>\n",
       "      <th>to_addr</th>\n",
       "      <th>to_addr_type</th>\n",
       "      <th>transport_metadata</th>\n",
       "      <th>transport_name</th>\n",
       "      <th>transport_type</th>\n",
       "    </tr>\n",
       "  </thead>\n",
       "  <tbody>\n",
       "    <tr>\n",
       "      <th>0</th>\n",
       "      <td>595d3fb841e9c43b197c9f41</td>\n",
       "      <td>None</td>\n",
       "      <td>+27748024688</td>\n",
       "      <td>None</td>\n",
       "      <td>None</td>\n",
       "      <td>{'go': {'conversation_type': 'jsbox', 'is_paid...</td>\n",
       "      <td>None</td>\n",
       "      <td>NaN</td>\n",
       "      <td>bd1e8b1ca02d402f9d2540086911b5f5</td>\n",
       "      <td>user_message</td>\n",
       "      <td>...</td>\n",
       "      <td>+27748024688</td>\n",
       "      <td>None</td>\n",
       "      <td>{'go_hops': [[['TRANSPORT_TAG:truteq_7692:*120...</td>\n",
       "      <td>new</td>\n",
       "      <td>2014-04-16 05:14:37.642580</td>\n",
       "      <td>*120*7692*2#</td>\n",
       "      <td>None</td>\n",
       "      <td>{}</td>\n",
       "      <td>truteq_7692_transport</td>\n",
       "      <td>ussd</td>\n",
       "    </tr>\n",
       "    <tr>\n",
       "      <th>1</th>\n",
       "      <td>595d3fb941e9c43b197c9f42</td>\n",
       "      <td>Welcome to Voting is Power! Start by choosing ...</td>\n",
       "      <td>*120*7692*2#</td>\n",
       "      <td>None</td>\n",
       "      <td>None</td>\n",
       "      <td>{'go': {'conversation_type': 'jsbox', 'is_paid...</td>\n",
       "      <td>bd1e8b1ca02d402f9d2540086911b5f5</td>\n",
       "      <td>NaN</td>\n",
       "      <td>d703b551e90a40dc973f26ffa7686514</td>\n",
       "      <td>user_message</td>\n",
       "      <td>...</td>\n",
       "      <td>+27748024688</td>\n",
       "      <td>None</td>\n",
       "      <td>{'go_hops': [[['CONVERSATION:jsbox:12b7d1093b0...</td>\n",
       "      <td>None</td>\n",
       "      <td>2014-04-16 05:14:40.360669</td>\n",
       "      <td>+27748024688</td>\n",
       "      <td>None</td>\n",
       "      <td>{}</td>\n",
       "      <td>truteq_7692_transport</td>\n",
       "      <td>ussd</td>\n",
       "    </tr>\n",
       "    <tr>\n",
       "      <th>2</th>\n",
       "      <td>595d3fb941e9c43b197c9f43</td>\n",
       "      <td>3</td>\n",
       "      <td>+27748024688</td>\n",
       "      <td>None</td>\n",
       "      <td>None</td>\n",
       "      <td>{'go': {'conversation_type': 'jsbox', 'is_paid...</td>\n",
       "      <td>None</td>\n",
       "      <td>NaN</td>\n",
       "      <td>96749ad26d8b437e9e4f7a106152ea34</td>\n",
       "      <td>user_message</td>\n",
       "      <td>...</td>\n",
       "      <td>+27748024688</td>\n",
       "      <td>None</td>\n",
       "      <td>{'go_hops': [[['TRANSPORT_TAG:truteq_7692:*120...</td>\n",
       "      <td>resume</td>\n",
       "      <td>2014-04-16 05:14:55.293199</td>\n",
       "      <td>*120*7692*2#</td>\n",
       "      <td>None</td>\n",
       "      <td>{}</td>\n",
       "      <td>truteq_7692_transport</td>\n",
       "      <td>ussd</td>\n",
       "    </tr>\n",
       "    <tr>\n",
       "      <th>3</th>\n",
       "      <td>595d3fb941e9c43b197c9f44</td>\n",
       "      <td>Yiskhathi sokhetho! Liyasiza yini ivoti lakho?...</td>\n",
       "      <td>*120*7692*2#</td>\n",
       "      <td>None</td>\n",
       "      <td>None</td>\n",
       "      <td>{'go': {'conversation_type': 'jsbox', 'is_paid...</td>\n",
       "      <td>96749ad26d8b437e9e4f7a106152ea34</td>\n",
       "      <td>NaN</td>\n",
       "      <td>66f7b7f05cd04a7c8f676f89db10d9ed</td>\n",
       "      <td>user_message</td>\n",
       "      <td>...</td>\n",
       "      <td>+27748024688</td>\n",
       "      <td>None</td>\n",
       "      <td>{'go_hops': [[['CONVERSATION:jsbox:12b7d1093b0...</td>\n",
       "      <td>None</td>\n",
       "      <td>2014-04-16 05:14:56.778567</td>\n",
       "      <td>+27748024688</td>\n",
       "      <td>None</td>\n",
       "      <td>{}</td>\n",
       "      <td>truteq_7692_transport</td>\n",
       "      <td>ussd</td>\n",
       "    </tr>\n",
       "    <tr>\n",
       "      <th>4</th>\n",
       "      <td>595d3fb941e9c43b197c9f45</td>\n",
       "      <td>1</td>\n",
       "      <td>+27748024688</td>\n",
       "      <td>None</td>\n",
       "      <td>None</td>\n",
       "      <td>{'go': {'conversation_type': 'jsbox', 'is_paid...</td>\n",
       "      <td>None</td>\n",
       "      <td>NaN</td>\n",
       "      <td>9b33a280846344819234b5711c5e5d3e</td>\n",
       "      <td>user_message</td>\n",
       "      <td>...</td>\n",
       "      <td>+27748024688</td>\n",
       "      <td>None</td>\n",
       "      <td>{'go_hops': [[['TRANSPORT_TAG:truteq_7692:*120...</td>\n",
       "      <td>resume</td>\n",
       "      <td>2014-04-16 05:15:13.950075</td>\n",
       "      <td>*120*7692*2#</td>\n",
       "      <td>None</td>\n",
       "      <td>{}</td>\n",
       "      <td>truteq_7692_transport</td>\n",
       "      <td>ussd</td>\n",
       "    </tr>\n",
       "  </tbody>\n",
       "</table>\n",
       "<p>5 rows × 21 columns</p>\n",
       "</div>"
      ],
      "text/plain": [
       "                        _id  \\\n",
       "0  595d3fb841e9c43b197c9f41   \n",
       "1  595d3fb941e9c43b197c9f42   \n",
       "2  595d3fb941e9c43b197c9f43   \n",
       "3  595d3fb941e9c43b197c9f44   \n",
       "4  595d3fb941e9c43b197c9f45   \n",
       "\n",
       "                                             content     from_addr  \\\n",
       "0                                               None  +27748024688   \n",
       "1  Welcome to Voting is Power! Start by choosing ...  *120*7692*2#   \n",
       "2                                                  3  +27748024688   \n",
       "3  Yiskhathi sokhetho! Liyasiza yini ivoti lakho?...  *120*7692*2#   \n",
       "4                                                  1  +27748024688   \n",
       "\n",
       "  from_addr_type group                                    helper_metadata  \\\n",
       "0           None  None  {'go': {'conversation_type': 'jsbox', 'is_paid...   \n",
       "1           None  None  {'go': {'conversation_type': 'jsbox', 'is_paid...   \n",
       "2           None  None  {'go': {'conversation_type': 'jsbox', 'is_paid...   \n",
       "3           None  None  {'go': {'conversation_type': 'jsbox', 'is_paid...   \n",
       "4           None  None  {'go': {'conversation_type': 'jsbox', 'is_paid...   \n",
       "\n",
       "                        in_reply_to inbound_push_trigger  \\\n",
       "0                              None                  NaN   \n",
       "1  bd1e8b1ca02d402f9d2540086911b5f5                  NaN   \n",
       "2                              None                  NaN   \n",
       "3  96749ad26d8b437e9e4f7a106152ea34                  NaN   \n",
       "4                              None                  NaN   \n",
       "\n",
       "                         message_id  message_type      ...        \\\n",
       "0  bd1e8b1ca02d402f9d2540086911b5f5  user_message      ...         \n",
       "1  d703b551e90a40dc973f26ffa7686514  user_message      ...         \n",
       "2  96749ad26d8b437e9e4f7a106152ea34  user_message      ...         \n",
       "3  66f7b7f05cd04a7c8f676f89db10d9ed  user_message      ...         \n",
       "4  9b33a280846344819234b5711c5e5d3e  user_message      ...         \n",
       "\n",
       "            poi provider                                   routing_metadata  \\\n",
       "0  +27748024688     None  {'go_hops': [[['TRANSPORT_TAG:truteq_7692:*120...   \n",
       "1  +27748024688     None  {'go_hops': [[['CONVERSATION:jsbox:12b7d1093b0...   \n",
       "2  +27748024688     None  {'go_hops': [[['TRANSPORT_TAG:truteq_7692:*120...   \n",
       "3  +27748024688     None  {'go_hops': [[['CONVERSATION:jsbox:12b7d1093b0...   \n",
       "4  +27748024688     None  {'go_hops': [[['TRANSPORT_TAG:truteq_7692:*120...   \n",
       "\n",
       "  session_event                   timestamp       to_addr to_addr_type  \\\n",
       "0           new  2014-04-16 05:14:37.642580  *120*7692*2#         None   \n",
       "1          None  2014-04-16 05:14:40.360669  +27748024688         None   \n",
       "2        resume  2014-04-16 05:14:55.293199  *120*7692*2#         None   \n",
       "3          None  2014-04-16 05:14:56.778567  +27748024688         None   \n",
       "4        resume  2014-04-16 05:15:13.950075  *120*7692*2#         None   \n",
       "\n",
       "  transport_metadata         transport_name transport_type  \n",
       "0                 {}  truteq_7692_transport           ussd  \n",
       "1                 {}  truteq_7692_transport           ussd  \n",
       "2                 {}  truteq_7692_transport           ussd  \n",
       "3                 {}  truteq_7692_transport           ussd  \n",
       "4                 {}  truteq_7692_transport           ussd  \n",
       "\n",
       "[5 rows x 21 columns]"
      ]
     },
     "execution_count": 8,
     "metadata": {},
     "output_type": "execute_result"
    }
   ],
   "source": [
    "df.head()"
   ]
  },
  {
   "cell_type": "markdown",
   "metadata": {},
   "source": [
    " GET ONE POI and SETUP CONVERSATION"
   ]
  },
  {
   "cell_type": "code",
   "execution_count": 9,
   "metadata": {},
   "outputs": [
    {
     "data": {
      "text/html": [
       "<div>\n",
       "<style>\n",
       "    .dataframe thead tr:only-child th {\n",
       "        text-align: right;\n",
       "    }\n",
       "\n",
       "    .dataframe thead th {\n",
       "        text-align: left;\n",
       "    }\n",
       "\n",
       "    .dataframe tbody tr th {\n",
       "        vertical-align: top;\n",
       "    }\n",
       "</style>\n",
       "<table border=\"1\" class=\"dataframe\">\n",
       "  <thead>\n",
       "    <tr style=\"text-align: right;\">\n",
       "      <th></th>\n",
       "      <th>poi</th>\n",
       "      <th>content</th>\n",
       "      <th>from_addr</th>\n",
       "      <th>to_addr</th>\n",
       "      <th>transport_type</th>\n",
       "      <th>transport_name</th>\n",
       "      <th>session_event</th>\n",
       "      <th>_id</th>\n",
       "    </tr>\n",
       "    <tr>\n",
       "      <th>timestamp</th>\n",
       "      <th></th>\n",
       "      <th></th>\n",
       "      <th></th>\n",
       "      <th></th>\n",
       "      <th></th>\n",
       "      <th></th>\n",
       "      <th></th>\n",
       "      <th></th>\n",
       "    </tr>\n",
       "  </thead>\n",
       "  <tbody>\n",
       "    <tr>\n",
       "      <th>2014-04-10 06:58:15.551037</th>\n",
       "      <td>+27766763040</td>\n",
       "      <td>None</td>\n",
       "      <td>+27766763040</td>\n",
       "      <td>*120*4729#</td>\n",
       "      <td>ussd</td>\n",
       "      <td>truteq_4729_transport</td>\n",
       "      <td>new</td>\n",
       "      <td>595d6b3f833f86645bd049f4</td>\n",
       "    </tr>\n",
       "    <tr>\n",
       "      <th>2014-04-10 06:58:16.756844</th>\n",
       "      <td>+27766763040</td>\n",
       "      <td>Welcome to Voting is Power! Start by choosing ...</td>\n",
       "      <td>*120*4729#</td>\n",
       "      <td>+27766763040</td>\n",
       "      <td>ussd</td>\n",
       "      <td>truteq_4729_transport</td>\n",
       "      <td>None</td>\n",
       "      <td>595d6b3f833f86645bd049f5</td>\n",
       "    </tr>\n",
       "    <tr>\n",
       "      <th>2014-04-10 06:58:38.750785</th>\n",
       "      <td>+27766763040</td>\n",
       "      <td>1</td>\n",
       "      <td>+27766763040</td>\n",
       "      <td>*120*4729#</td>\n",
       "      <td>ussd</td>\n",
       "      <td>truteq_4729_transport</td>\n",
       "      <td>resume</td>\n",
       "      <td>595d6b3f833f86645bd049f6</td>\n",
       "    </tr>\n",
       "    <tr>\n",
       "      <th>2014-04-10 06:58:39.620157</th>\n",
       "      <td>+27766763040</td>\n",
       "      <td>Elections! Does ur vote matter?\\n1. YES every ...</td>\n",
       "      <td>*120*4729#</td>\n",
       "      <td>+27766763040</td>\n",
       "      <td>ussd</td>\n",
       "      <td>truteq_4729_transport</td>\n",
       "      <td>None</td>\n",
       "      <td>595d6b3f833f86645bd049f7</td>\n",
       "    </tr>\n",
       "    <tr>\n",
       "      <th>2014-04-10 06:59:10.644552</th>\n",
       "      <td>+27766763040</td>\n",
       "      <td>1</td>\n",
       "      <td>+27766763040</td>\n",
       "      <td>*120*4729#</td>\n",
       "      <td>ussd</td>\n",
       "      <td>truteq_4729_transport</td>\n",
       "      <td>resume</td>\n",
       "      <td>595d6b3f833f86645bd049f8</td>\n",
       "    </tr>\n",
       "  </tbody>\n",
       "</table>\n",
       "</div>"
      ],
      "text/plain": [
       "                                     poi  \\\n",
       "timestamp                                  \n",
       "2014-04-10 06:58:15.551037  +27766763040   \n",
       "2014-04-10 06:58:16.756844  +27766763040   \n",
       "2014-04-10 06:58:38.750785  +27766763040   \n",
       "2014-04-10 06:58:39.620157  +27766763040   \n",
       "2014-04-10 06:59:10.644552  +27766763040   \n",
       "\n",
       "                                                                      content  \\\n",
       "timestamp                                                                       \n",
       "2014-04-10 06:58:15.551037                                               None   \n",
       "2014-04-10 06:58:16.756844  Welcome to Voting is Power! Start by choosing ...   \n",
       "2014-04-10 06:58:38.750785                                                  1   \n",
       "2014-04-10 06:58:39.620157  Elections! Does ur vote matter?\\n1. YES every ...   \n",
       "2014-04-10 06:59:10.644552                                                  1   \n",
       "\n",
       "                               from_addr       to_addr transport_type  \\\n",
       "timestamp                                                               \n",
       "2014-04-10 06:58:15.551037  +27766763040    *120*4729#           ussd   \n",
       "2014-04-10 06:58:16.756844    *120*4729#  +27766763040           ussd   \n",
       "2014-04-10 06:58:38.750785  +27766763040    *120*4729#           ussd   \n",
       "2014-04-10 06:58:39.620157    *120*4729#  +27766763040           ussd   \n",
       "2014-04-10 06:59:10.644552  +27766763040    *120*4729#           ussd   \n",
       "\n",
       "                                   transport_name session_event  \\\n",
       "timestamp                                                         \n",
       "2014-04-10 06:58:15.551037  truteq_4729_transport           new   \n",
       "2014-04-10 06:58:16.756844  truteq_4729_transport          None   \n",
       "2014-04-10 06:58:38.750785  truteq_4729_transport        resume   \n",
       "2014-04-10 06:58:39.620157  truteq_4729_transport          None   \n",
       "2014-04-10 06:59:10.644552  truteq_4729_transport        resume   \n",
       "\n",
       "                                                 _id  \n",
       "timestamp                                             \n",
       "2014-04-10 06:58:15.551037  595d6b3f833f86645bd049f4  \n",
       "2014-04-10 06:58:16.756844  595d6b3f833f86645bd049f5  \n",
       "2014-04-10 06:58:38.750785  595d6b3f833f86645bd049f6  \n",
       "2014-04-10 06:58:39.620157  595d6b3f833f86645bd049f7  \n",
       "2014-04-10 06:59:10.644552  595d6b3f833f86645bd049f8  "
      ]
     },
     "execution_count": 9,
     "metadata": {},
     "output_type": "execute_result"
    }
   ],
   "source": [
    "example_df = setup_conversation(df[df['poi'] == addresses[10]])\n",
    "example_df.head()"
   ]
  },
  {
   "cell_type": "markdown",
   "metadata": {},
   "source": [
    "# feature time to response for each push and reminder messages #4\n",
    "# feature: average time to answer a question #3"
   ]
  },
  {
   "cell_type": "code",
   "execution_count": 10,
   "metadata": {},
   "outputs": [],
   "source": [
    "# %load features/utils.py\n",
    "import pandas as pd\n",
    "from datetime import datetime\n",
    "from features.settings import TIME_STAMP_FORMAT\n",
    "import pickle\n",
    "\n",
    "\n",
    "def get_conversation(conversations, poi):\n",
    "    c = conversations.find({'poi': poi})\n",
    "    df = pd.DataFrame(list(c))\n",
    "    header = ['poi', 'content', 'from_addr', 'to_addr', 'transport_type', 'transport_name', 'session_event', '_id']\n",
    "    df = df.set_index('timestamp')\n",
    "    # we drop duplicates of timestamp which is the index\n",
    "    df = df[~df.index.duplicated(keep='first')]\n",
    "    return df[header]\n",
    "\n",
    "\n",
    "def count_mxit_responses(conversation_df):\n",
    "    try:\n",
    "        count = len(conversation_df[(conversation_df['transport_type'] == 'mxit') & (conversation_df['content'] != None) & (conversation_df['to_addr'] == 'vipvoice2014')])\n",
    "    except:\n",
    "        count = 0\n",
    "    return count\n",
    "\n",
    "\n",
    "def number_of_mxit_sessions(conversation_df):\n",
    "    if 'mxit' in conversation_df['transport_type'].unique():\n",
    "        return 1\n",
    "    else:\n",
    "        return 0\n",
    "\n",
    "\n",
    "def alpha(conversation_df):\n",
    "    \"\"\"average number of responses given per open session and total number of sessions\"\"\"\n",
    "    total_number_of_responses = len(conversation_df[conversation_df['session_event']=='resume'])\n",
    "    number_of_sessions_sms = len(conversation_df[conversation_df['session_event']=='close'])\n",
    "    total_number_of_responses += count_mxit_responses(conversation_df)\n",
    "    number_of_sessions = number_of_sessions_sms + number_of_mxit_sessions(conversation_df)\n",
    "    if float(number_of_sessions) != 0:\n",
    "        return float(total_number_of_responses)/float(number_of_sessions), float(number_of_sessions)\n",
    "    else:\n",
    "        return 0, 0\n",
    "\n",
    "\n",
    "def get_total_time_in_system(df):\n",
    "    try:\n",
    "        # start is the first instance we observe a new_connection\n",
    "        start = datetime.strptime(df[df['session_event'] == 'new'].index[0], TIME_STAMP_FORMAT)\n",
    "        # finish is the very last report of the system\n",
    "        finish = datetime.strptime(df.index[-1], TIME_STAMP_FORMAT)\n",
    "        delta = finish - start\n",
    "        return delta.seconds\n",
    "    except:\n",
    "        return 0\n",
    "\n",
    "\n",
    "def beta(conversation_df):\n",
    "    \"\"\"Returns total time interacting and total time in system \"\"\"\n",
    "    total_time_in_system = get_total_time_in_system(conversation_df)\n",
    "    total_time_interacting = 0.0\n",
    "    start_time = 0.0\n",
    "    finish_time = 0.0\n",
    "    in_session = False\n",
    "    for rows in conversation_df.iterrows():\n",
    "\n",
    "        if rows[1]['session_event'] == 'new':\n",
    "            start_time = datetime.strptime(rows[0], TIME_STAMP_FORMAT)\n",
    "            in_session = True\n",
    "\n",
    "        if rows[1]['session_event'] == 'close' and in_session is True:\n",
    "            finish_time = datetime.strptime(rows[0], TIME_STAMP_FORMAT)\n",
    "            delta = finish_time - start_time\n",
    "            time_interacting_in_session = delta.seconds\n",
    "            total_time_interacting += delta.seconds\n",
    "            in_session = False\n",
    "\n",
    "    return total_time_interacting, total_time_in_system\n",
    "\n",
    "\n",
    "def channels(conversation_df):\n",
    "    channel_list = conversation_df[(conversation_df['to_addr'] == '*120*7692*2#') | (conversation_df['to_addr'] == '*120*7692*3#') | (conversation_df['to_addr'] == '*120*4729#')]['to_addr'].tolist()\n",
    "    previous = None\n",
    "    ch1_to_ch2 = False\n",
    "    ch2_to_ch1 = False\n",
    "    ch2_to_ch3 = False\n",
    "    ch3_to_ch2 = False\n",
    "    ch1_to_ch3 = False\n",
    "    ch3_to_ch1 = False\n",
    "    for x in channel_list[1:]:\n",
    "        next_one = x\n",
    "        if next_one == previous:\n",
    "            previous = next_one\n",
    "            pass\n",
    "        else:\n",
    "            # ch1 = '*120*7692*2#' ch2 = '*120*7692*3#' ch3 = '*120*4729#'\n",
    "            if (previous == '*120*7692*2#' and next_one == '*120*7692*3#'):\n",
    "                ch1_to_ch2 = True\n",
    "            if(next_one == '*120*7692*2#' and previous == '*120*7692*3#'):\n",
    "                ch2_to_ch1 = True\n",
    "            if (previous == '*120*7692*3#' and next_one == '*120*4729#'):\n",
    "                ch2_to_ch3 = True\n",
    "            if (next_one == '*120*7692*3#' and previous == '*120*4729#'):\n",
    "                ch3_to_ch2 = True\n",
    "            if (previous == '*120*7692*2#' and next_one == '*120*4729#'):\n",
    "                ch3_to_ch1 = True\n",
    "            if (next_one == '*120*7692*2#' and previous == '*120*4729#'):\n",
    "                ch1_to_ch3 = True\n",
    "            previous = next_one\n",
    "\n",
    "    return ch1_to_ch2, ch2_to_ch1, ch2_to_ch3, ch3_to_ch2, ch1_to_ch3, ch3_to_ch1\n",
    "\n",
    "\n",
    "def get_average_response_time(conversation_df):\n",
    "    questions = conversation_df[conversation_df['from_addr'] != conversation_df['poi']]\n",
    "    questions_loc = [conversation_df.index.get_loc(loc) for loc in questions.index.tolist()]\n",
    "    potential_answers_loc = [conversation_df.index.get_loc(loc) + 1 for loc in questions.index.tolist()]\n",
    "    cleaned_questions = list(set(questions_loc) - set(potential_answers_loc))\n",
    "    cleaned_answers = [q + 1 for q in cleaned_questions]\n",
    "\n",
    "    if len(conversation_df) - 1 in cleaned_questions:\n",
    "        cleaned_questions.remove(len(conversation_df) - 1)\n",
    "\n",
    "    cleaned_answers = [q + 1 for q in cleaned_questions]\n",
    "    times = []\n",
    "\n",
    "    for q, a in zip(cleaned_questions, cleaned_answers):\n",
    "        r1 = conversation_df.iloc[q]\n",
    "        r2 = conversation_df.iloc[a]\n",
    "        r1_date = datetime.strptime(r1.name, TIME_STAMP_FORMAT)\n",
    "        r2_date = datetime.strptime(r2.name, TIME_STAMP_FORMAT)\n",
    "        times.append([(r2_date - r1_date).total_seconds(), r1.content, r2.content])\n",
    "\n",
    "    df = pd.DataFrame(times)\n",
    "    if len(times) == 0:\n",
    "        return 0, df\n",
    "    else:\n",
    "\n",
    "        df.columns = ['times', 'question', 'answer']\n",
    "        df.times.mean()\n",
    "        return df.times.mean(), df\n",
    "\n",
    "\n",
    "def addresses_and_types(conversation_df):\n",
    "    addresses = conversation_df['to_addr'].unique().tolist()\n",
    "    invalid_to_addresses = [conversation_df.poi.iloc[0], '', ' ', 'None']\n",
    "    for invalid in invalid_to_addresses:\n",
    "        try:\n",
    "            addresses.remove(invalid)\n",
    "        except:\n",
    "            pass\n",
    "    return addresses, conversation_df['transport_type'].unique().tolist()\n",
    "\n",
    "\n",
    "def make_payload(conversation_df):\n",
    "    address = conversation_df['poi'][0]\n",
    "    average_response, total_number_of_sessions = alpha(conversation_df)\n",
    "    total_time_interacting, total_time_in_system = beta(conversation_df)\n",
    "    ch1_to_ch2, ch2_to_ch1, ch2_to_ch3, ch3_to_ch2, ch1_to_ch3, ch3_to_ch1 = channels(conversation_df)\n",
    "    average_response_time, response_df = get_average_response_time(conversation_df)\n",
    "    addresses, message_types = addresses_and_types(conversation_df)\n",
    "\n",
    "    payload = {\n",
    "        'poi': address,\n",
    "        'average_response_count': average_response,\n",
    "        'total_number_of_sessions': total_number_of_sessions,\n",
    "        'total_time_interacting': total_time_interacting,\n",
    "        'total_time_in_system': total_time_in_system,\n",
    "        'ch1_to_ch2': ch1_to_ch2,\n",
    "        'ch2_to_ch1': ch2_to_ch1,\n",
    "        'ch2_to_ch3': ch2_to_ch3,\n",
    "        'ch3_to_ch2': ch3_to_ch2,\n",
    "        'ch1_to_ch3': ch1_to_ch3,\n",
    "        'ch3_to_ch1': ch3_to_ch1,\n",
    "        'to_address_values': addresses,\n",
    "        'transport_types': message_types,\n",
    "        'average_response_time': average_response_time,\n",
    "        'response_data': response_df.to_dict(orient='records'),\n",
    "    }\n",
    "    pickle.dump(payload, open(\"./features/data/out_{}.pkl\".format(address), \"wb\"))\n",
    "    return payload\n",
    "\n",
    "\n",
    "def setup_conversation(conversation_df):\n",
    "    header = ['poi', 'content', 'from_addr', 'to_addr', 'transport_type', 'transport_name', 'session_event', '_id']\n",
    "    conversation_df = conversation_df.set_index('timestamp')\n",
    "    # we drop duplicates of timestamp which is the index\n",
    "    df = conversation_df[~conversation_df.index.duplicated(keep='first')]\n",
    "    return df[header]\n"
   ]
  },
  {
   "cell_type": "markdown",
   "metadata": {},
   "source": [
    "average number of responses given per open session total number of sessions"
   ]
  },
  {
   "cell_type": "code",
   "execution_count": 11,
   "metadata": {},
   "outputs": [
    {
     "data": {
      "text/plain": [
       "(1.3333333333333333, 6.0)"
      ]
     },
     "execution_count": 11,
     "metadata": {},
     "output_type": "execute_result"
    }
   ],
   "source": [
    "average_response, total_number_of_sessions = alpha(example_df)\n",
    "(average_response, total_number_of_sessions)"
   ]
  },
  {
   "cell_type": "code",
   "execution_count": 12,
   "metadata": {},
   "outputs": [
    {
     "data": {
      "text/plain": [
       "(518.0, 85076)"
      ]
     },
     "execution_count": 12,
     "metadata": {},
     "output_type": "execute_result"
    }
   ],
   "source": [
    "beta(example_df)"
   ]
  },
  {
   "cell_type": "markdown",
   "metadata": {},
   "source": [
    "# surfing : need to make sure it ignores the endline #2"
   ]
  },
  {
   "cell_type": "code",
   "execution_count": 13,
   "metadata": {},
   "outputs": [
    {
     "data": {
      "text/plain": [
       "(False, False, False, False, False, False)"
      ]
     },
     "execution_count": 13,
     "metadata": {},
     "output_type": "execute_result"
    }
   ],
   "source": [
    "channels(example_df)"
   ]
  },
  {
   "cell_type": "markdown",
   "metadata": {},
   "source": [
    "GET all channels which the person dialed in who they talked to?"
   ]
  },
  {
   "cell_type": "code",
   "execution_count": 14,
   "metadata": {},
   "outputs": [
    {
     "data": {
      "text/plain": [
       "{'*120*4729#', '+27766763040', 'None', None, '*120*4729*1#', '*120*7692#'}"
      ]
     },
     "execution_count": 14,
     "metadata": {},
     "output_type": "execute_result"
    }
   ],
   "source": [
    "set(example_df['to_addr'].values)"
   ]
  },
  {
   "cell_type": "markdown",
   "metadata": {},
   "source": [
    "Get all transport types"
   ]
  },
  {
   "cell_type": "code",
   "execution_count": 15,
   "metadata": {},
   "outputs": [
    {
     "data": {
      "text/plain": [
       "{'truteq_7692_transport',\n",
       " None,\n",
       " 'ambient_go_smpp_transport',\n",
       " 'truteq_4729_transport'}"
      ]
     },
     "execution_count": 15,
     "metadata": {},
     "output_type": "execute_result"
    }
   ],
   "source": [
    "set(example_df['transport_name'].values)"
   ]
  },
  {
   "cell_type": "code",
   "execution_count": 16,
   "metadata": {},
   "outputs": [
    {
     "data": {
      "text/plain": [
       "{'ussd', None, 'sms'}"
      ]
     },
     "execution_count": 16,
     "metadata": {},
     "output_type": "execute_result"
    }
   ],
   "source": [
    "set(example_df['transport_type'].values)"
   ]
  },
  {
   "cell_type": "markdown",
   "metadata": {},
   "source": [
    "#### CHANNELS\n",
    "\n",
    "\\*120\\*7692\\*  residual short code\n",
    "\n",
    "\\*120\\*4729\\*1# E-day Monitoring\n",
    "\n",
    "\\*120\\*4729\\*3# Endline\n",
    "\n",
    "\\*120\\*7692\\*1# VIP live magazine\n",
    "\n",
    "\\*120\\*7692\\*2# Main Channel Control\n",
    "\n",
    "\\*120\\*7692\\*3# Main Channel Lottery\n",
    "\n",
    "\\*120\\*4729# Main Channel Subsidary \n",
    "\n",
    "\\*120\\*4279# OR have your voice heard on vip"
   ]
  },
  {
   "cell_type": "markdown",
   "metadata": {},
   "source": [
    "# RESPONSE TIME"
   ]
  },
  {
   "cell_type": "code",
   "execution_count": 17,
   "metadata": {},
   "outputs": [
    {
     "data": {
      "text/plain": [
       "(105650.55264869564,\n",
       "            times                                           question  \\\n",
       " 0   2.199394e+01  Welcome to Voting is Power! Start by choosing ...   \n",
       " 1   3.102439e+01  Elections! Does ur vote matter?\\n1. YES every ...   \n",
       " 2   3.414702e+01  Please accept the terms and conditions to get ...   \n",
       " 3   2.830700e+01  Tx 4 joining! We need ur voting ward. Type ur ...   \n",
       " 4   1.391170e+06  Tnx 4 volunteering 2 be a citizen reporter for...   \n",
       " 5   3.454443e+01  Welcome to VIP!\\n1. Answer & win!\\n2. VIP Quiz...   \n",
       " 6   9.408301e+00                        I am...\\n1. Male\\n2. Female   \n",
       " 7   2.477766e+01  How old are you?\\n1. u14\\n2. 15-19\\n3. 20-29\\n...   \n",
       " 8   3.007038e+01  Did you vote in the 2009 election?\\n1. Yes\\n2....   \n",
       " 9   2.952224e+01  Did you vote in the 2009 election?\\n1. Yes\\n2....   \n",
       " 10  1.264236e+01  I am...\\n1. Black African\\n2. Coloured\\n3. Ind...   \n",
       " 11  2.917772e+01  Thank you for telling VIP a bit more about you...   \n",
       " 12  1.652889e+04  VIP:Voice wants 2 know: hv parties gone door-t...   \n",
       " 13  6.881893e+04  VIP:Voice wants 2 know: hv parties gone door-t...   \n",
       " 14  9.244495e+04  VIP:Voice wants 2 know if election held 2moro ...   \n",
       " 15  8.659306e+04  VIP:Voice wants 2 know if election held 2moro ...   \n",
       " 16  8.148678e+04  VIP:Voice wants 2 know: have parties distribut...   \n",
       " 17  5.009345e+01     VIP wants to know if you voted?\\n1. Yes\\n2. No   \n",
       " 18  7.766645e+04     VIP wants to know if you voted?\\n1. Yes\\n2. No   \n",
       " 19  6.147252e+05     VIP wants to know if you voted?\\n1. Yes\\n2. No   \n",
       " 20  1.190608e+02  Tx 4 joining! We need ur voting ward. Type ur ...   \n",
       " 21  4.304098e+01  Thanks 4 joining!2 begin we need ur voting war...   \n",
       " 22  3.098015e+01  Tx 4 joining! We need ur voting ward. Type ur ...   \n",
       " \n",
       "                                                answer  \n",
       " 0                                                   1  \n",
       " 1                                                   1  \n",
       " 2                                                   1  \n",
       " 3                                    Session timeout.  \n",
       " 4                                                None  \n",
       " 5                                                   1  \n",
       " 6                                                   1  \n",
       " 7                                                   6  \n",
       " 8                                    Session timeout.  \n",
       " 9                                                   1  \n",
       " 10                                                  1  \n",
       " 11                                       User timeout  \n",
       " 12                                               None  \n",
       " 13                                               None  \n",
       " 14                                               None  \n",
       " 15                                               None  \n",
       " 16  Make a choice, have a voice, vote! Your inked ...  \n",
       " 17                                                YES  \n",
       " 18                                               None  \n",
       " 19  If u haven't already, join thousands of other ...  \n",
       " 20                                   Session timeout.  \n",
       " 21                                       User timeout  \n",
       " 22                                       User timeout  )"
      ]
     },
     "execution_count": 17,
     "metadata": {},
     "output_type": "execute_result"
    }
   ],
   "source": [
    "get_average_response_time(example_df)"
   ]
  },
  {
   "cell_type": "code",
   "execution_count": null,
   "metadata": {
    "collapsed": true
   },
   "outputs": [],
   "source": [
    "# %%time\n",
    "# from concurrent.futures import ProcessPoolExecutor\n",
    "\n",
    "# e = ProcessPoolExecutor()\n",
    "# addresses = get_addresses()\n",
    "# results = list(e.map(make_features, addresses[0:100]))"
   ]
  },
  {
   "cell_type": "code",
   "execution_count": null,
   "metadata": {
    "collapsed": true,
    "scrolled": false
   },
   "outputs": [],
   "source": [
    "# %%time\n",
    "# from concurrent.futures import ThreadPoolExecutor\n",
    "# e = ThreadPoolExecutor(36)\n",
    "\n",
    "# futures = []\n",
    "# for address in addresses[0:100]:\n",
    "#     futures.append(e.submit(make_features, address))\n",
    "\n",
    "# r = [f.result() for f in futures]"
   ]
  },
  {
   "cell_type": "code",
   "execution_count": null,
   "metadata": {
    "collapsed": true
   },
   "outputs": [],
   "source": [
    "# %%time\n",
    "# from concurrent.futures import ThreadPoolExecutor\n",
    "# e = ThreadPoolExecutor(16)\n",
    "\n",
    "# futures = []\n",
    "# for address in addresses[0:100]:\n",
    "#     futures.append(e.submit(make_features, address))\n",
    "\n",
    "# r = [f.result() for f in futures]"
   ]
  },
  {
   "cell_type": "code",
   "execution_count": null,
   "metadata": {
    "collapsed": true
   },
   "outputs": [],
   "source": [
    "# %%time\n",
    "# from concurrent.futures import ThreadPoolExecutor\n",
    "# e = ThreadPoolExecutor(8)\n",
    "\n",
    "# futures = []\n",
    "# for address in addresses[0:100]:\n",
    "#     futures.append(e.submit(make_features, address))\n",
    "\n",
    "# r = [f.result() for f in futures]"
   ]
  }
 ],
 "metadata": {
  "kernelspec": {
   "display_name": "Python 3",
   "language": "python",
   "name": "python3"
  },
  "language_info": {
   "codemirror_mode": {
    "name": "ipython",
    "version": 3
   },
   "file_extension": ".py",
   "mimetype": "text/x-python",
   "name": "python",
   "nbconvert_exporter": "python",
   "pygments_lexer": "ipython3",
   "version": "3.6.2"
  }
 },
 "nbformat": 4,
 "nbformat_minor": 2
}
