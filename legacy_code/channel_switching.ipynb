{
 "cells": [
  {
   "cell_type": "code",
   "execution_count": 10,
   "metadata": {},
   "outputs": [],
   "source": [
    "import pandas as pd\n",
    "import pandas as pd\n",
    "from datetime import datetime\n",
    "from pymongo import MongoClient\n",
    "import pickle\n",
    "from datetime import datetime, timedelta\n",
    "from pymongo.errors import ConnectionFailure\n",
    "import pickle\n",
    "from concurrent.futures import ProcessPoolExecutor"
   ]
  },
  {
   "cell_type": "markdown",
   "metadata": {},
   "source": [
    "This is a notebook that shows the issue Etienne is having when trying to find which users switched between the 3 lottery channels in ussd. The lottery channels have the poi *120*7692*2#, *120*7692*3#, *120*4729#. The problem is that Etienne is not able to isolate any user that messaged more than one of these channels. \n",
    "\n",
    "This notebook was originally made to expose the problem to Aaron. The code contained here is not production code and is copypasted from the final_feature_creation.py script. "
   ]
  },
  {
   "cell_type": "code",
   "execution_count": 29,
   "metadata": {},
   "outputs": [],
   "source": [
    "def mongo_connect():\n",
    "    \"\"\"\n",
    "    This is Ryan's connection function\n",
    "    \"\"\"\n",
    "    # Try to connect to MongoDB,  exit if not successful.\n",
    "    try:\n",
    "        conn = MongoClient('localhost', 27017)\n",
    "        # print \"Connected successfully to MongoDB, instance created!\"\n",
    "\n",
    "    except ConnectionFailure:\n",
    "        print(\"Could not connect to MongoDB\")\n",
    "\n",
    "    name = 'test'\n",
    "    db = conn[name]\n",
    "    conversations = db.cleaned_conversations\n",
    "    raw = db.conversations_collection\n",
    "    features = db.features_collection\n",
    "\n",
    "    return conn, db, conversations, raw, features\n",
    "\n",
    "\n",
    "\n",
    "def get_conversation(poi):\n",
    "    conn, db, conversations, raw, features = mongo_connect()\n",
    "    try:\n",
    "        c = conversations.find({'poi': poi})\n",
    "    finally:\n",
    "        conn.close()\n",
    "    df = pd.DataFrame(list(c))\n",
    "    header = ['poi', 'content', 'from_addr', 'to_addr', 'transport_type', 'transport_name', 'session_event', '_id',\n",
    "              'helper_metadata']\n",
    "    df = df.set_index(u'timestamp')\n",
    "    # we drop duplicates of timestamp which is the index\n",
    "    df = df[~df.index.duplicated(keep='first')]\n",
    "    return df[header]\n",
    "\n",
    "\n",
    "\n",
    "def index_to_date(conversation_df_index):\n",
    "    \"\"\"\n",
    "    turns the index from a unicode string to datetime format\n",
    "    :param conversation_df:\n",
    "    :return:\n",
    "    \"\"\"\n",
    "\n",
    "    datetime_index = [\n",
    "        datetime.strptime(index_value, TIME_STAMP_FORMAT) for index_value in conversation_df_index]\n",
    "    return datetime_index\n",
    "\n",
    "TIME_STAMP_FORMAT = \"%Y-%m-%d %H:%M:%S.%f\"\n",
    "\n",
    "\n",
    "\n"
   ]
  },
  {
   "cell_type": "markdown",
   "metadata": {},
   "source": [
    "This is the function that is supposed to find which users have switched. This function takes the \"to_addr\" field in the conversation and subsets for the messages that are sent to one of the 3 relevant channels. It then looks for some change in channel from one message to another. As far as I can tell this function should be able to detect switches as it is. "
   ]
  },
  {
   "cell_type": "code",
   "execution_count": 18,
   "metadata": {},
   "outputs": [],
   "source": [
    "\n",
    "def channels(conversation_df):\n",
    "    \"\"\"\n",
    "    Looks for whether users moved between the free lottery. Should not apply to mxit users.\n",
    "    \"\"\"\n",
    "    channel_list = conversation_df[(conversation_df['to_addr'] == '*120*7692*2#') |\n",
    "                                   (conversation_df['to_addr'] == '*120*7692*3#') |\n",
    "                                   (conversation_df['to_addr'] == '*120*4729#').to_addr.tolist()\n",
    "    previous = None\n",
    "    ch1_to_ch2 = False\n",
    "    ch2_to_ch1 = False\n",
    "    ch2_to_ch3 = False\n",
    "    ch3_to_ch2 = False\n",
    "    ch1_to_ch3 = False\n",
    "    ch3_to_ch1 = False\n",
    "    for x in channel_list[1:]:\n",
    "        next_one = x\n",
    "        if next_one == previous:\n",
    "            previous = next_one\n",
    "            pass\n",
    "        else:\n",
    "            # ch1 = '*120*7692*2#' ch2 = '*120*7692*3#' ch3 = '*120*4729#'\n",
    "            if (previous == '*120*7692*2#' and next_one == '*120*7692*3#'):\n",
    "                ch1_to_ch2 = True\n",
    "            if(next_one == '*120*7692*2#' and previous == '*120*7692*3#'):\n",
    "                ch2_to_ch1 = True\n",
    "            if (previous == '*120*7692*3#' and next_one == '*120*4729#'):\n",
    "                ch2_to_ch3 = True\n",
    "            if (next_one == '*120*7692*3#' and previous == '*120*4729#'):\n",
    "                ch3_to_ch2 = True\n",
    "            if (previous == '*120*7692*2#' and next_one == '*120*4729#'):\n",
    "                ch3_to_ch1 = True\n",
    "            if (next_one == '*120*7692*2#' and previous == '*120*4729#'):\n",
    "                ch1_to_ch3 = True\n",
    "            previous = next_one\n",
    "\n",
    "    return ch1_to_ch2, ch2_to_ch1, ch2_to_ch3, ch3_to_ch2, ch1_to_ch3, ch3_to_ch1\n"
   ]
  },
  {
   "cell_type": "markdown",
   "metadata": {},
   "source": [
    "The main problem is that none of the conversations in our current data actually have more than 1 of the 3 relevant channels in their \"to_addr\" field. Here I pull a conversation that is marked as switching channels in Ryan's spreadsheet. The get_conversation function returns all messages in our database that are associated with a given poi."
   ]
  },
  {
   "cell_type": "code",
   "execution_count": 19,
   "metadata": {},
   "outputs": [
    {
     "name": "stdout",
     "output_type": "stream",
     "text": [
      "2014-05-15 14:36:15.938703    +27727885259\n",
      "2014-05-21 13:02:00.271478    +27727885259\n",
      "2014-06-22 19:38:00.461363            None\n",
      "Name: to_addr, dtype: object\n"
     ]
    }
   ],
   "source": [
    "example_conversation = get_conversation('+27727885259')\n",
    "example_conversation.index = index_to_date(example_conversation.index)\n",
    "example_conversation.sort_index(inplace=True)\n",
    "\n",
    "print(example_conversation.to_addr)\n"
   ]
  },
  {
   "cell_type": "markdown",
   "metadata": {},
   "source": [
    "One thing that I have noticed is that a common pattern in these messages is that the ussd transport type is not present. Typically there is only the sms transport type. It might be that there are other messages on ussd by that user which are found under a different poi. "
   ]
  },
  {
   "cell_type": "code",
   "execution_count": 22,
   "metadata": {},
   "outputs": [
    {
     "name": "stdout",
     "output_type": "stream",
     "text": [
      "2014-05-15 14:36:15.938703    sms\n",
      "2014-05-21 13:02:00.271478    sms\n",
      "2014-06-22 19:38:00.461363    sms\n",
      "Name: transport_type, dtype: object\n"
     ]
    }
   ],
   "source": [
    "print(example_conversation.transport_type)"
   ]
  },
  {
   "cell_type": "markdown",
   "metadata": {},
   "source": [
    "This is not always the case however. Here is another example of a conversation that is marked as switching channels in Ryan's spreadsheet but which does not have messages sent to more than 1 of the 3 lottery channels:"
   ]
  },
  {
   "cell_type": "code",
   "execution_count": 26,
   "metadata": {},
   "outputs": [
    {
     "name": "stdout",
     "output_type": "stream",
     "text": [
      "2014-04-21 17:07:19.008762      *120*7692#\n",
      "2014-04-21 17:07:20.056518    +27823909270\n",
      "2014-04-21 17:07:29.371202      *120*7692#\n",
      "2014-04-21 17:07:30.346099    +27823909270\n",
      "2014-04-21 17:07:38.841444      *120*7692#\n",
      "2014-04-21 17:07:40.070932    +27823909270\n",
      "2014-04-21 17:07:48.920139      *120*7692#\n",
      "2014-04-21 17:07:50.536028    +27823909270\n",
      "2014-04-21 17:08:12.031299      *120*7692#\n",
      "2014-04-21 17:08:13.553137    +27823909270\n",
      "2014-04-21 17:08:20.022931      *120*7692#\n",
      "2014-04-21 17:08:21.409536    +27823909270\n",
      "2014-04-21 17:08:33.596968      *120*7692#\n",
      "Name: to_addr, dtype: object\n",
      "2014-04-21 17:07:19.008762    ussd\n",
      "2014-04-21 17:07:20.056518    ussd\n",
      "2014-04-21 17:07:29.371202    ussd\n",
      "2014-04-21 17:07:30.346099    ussd\n",
      "2014-04-21 17:07:38.841444    ussd\n",
      "2014-04-21 17:07:40.070932    ussd\n",
      "2014-04-21 17:07:48.920139    ussd\n",
      "2014-04-21 17:07:50.536028    ussd\n",
      "2014-04-21 17:08:12.031299    ussd\n",
      "2014-04-21 17:08:13.553137    ussd\n",
      "2014-04-21 17:08:20.022931    ussd\n",
      "2014-04-21 17:08:21.409536    ussd\n",
      "2014-04-21 17:08:33.596968    ussd\n",
      "Name: transport_type, dtype: object\n"
     ]
    }
   ],
   "source": [
    "other_conversation = get_conversation('+27823909270')\n",
    "other_conversation.index = index_to_date(other_conversation.index)\n",
    "other_conversation.sort_index(inplace=True)\n",
    "\n",
    "print(other_conversation.to_addr)\n",
    "print(other_conversation.transport_type)\n"
   ]
  },
  {
   "cell_type": "markdown",
   "metadata": {},
   "source": [
    "There is a metadata field that I have explore to see if it could help retrieve the messages that went to other users but I could not find anything of interest in there"
   ]
  },
  {
   "cell_type": "code",
   "execution_count": 28,
   "metadata": {},
   "outputs": [
    {
     "name": "stdout",
     "output_type": "stream",
     "text": [
      "{u'go': {u'conversation_type': u'jsbox', u'is_paid': True, u'user_account': u'aa30257efe8644c1a86e8dd63cd63836', u'conversation_key': u'50cddc12bb514ee3a389c6702dcffbdb'}, u'tag': {u'tag': [u'truteq_7692_base', u'*120*7692#']}, u'truteq': {u'genfields': {}}, u'optout': {u'optout': False}}\n"
     ]
    }
   ],
   "source": [
    "print(other_conversation.helper_metadata.iloc[0])"
   ]
  },
  {
   "cell_type": "markdown",
   "metadata": {},
   "source": [
    "The user_account and conversation_key fields seem to be shared across hundreds of users. None of the other fields seem like they would be helpful. Finally I looked up conversations in the original data but they also do not indicate that the user sent messages to multiple channels. "
   ]
  }
 ],
 "metadata": {
  "kernelspec": {
   "display_name": "Python 2",
   "language": "python",
   "name": "python2"
  },
  "language_info": {
   "codemirror_mode": {
    "name": "ipython",
    "version": 2
   },
   "file_extension": ".py",
   "mimetype": "text/x-python",
   "name": "python",
   "nbconvert_exporter": "python",
   "pygments_lexer": "ipython2",
   "version": "2.7.15"
  }
 },
 "nbformat": 4,
 "nbformat_minor": 2
}
