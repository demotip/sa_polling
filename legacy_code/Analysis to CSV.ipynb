{
 "cells": [
  {
   "cell_type": "code",
   "execution_count": 2,
   "metadata": {
    "collapsed": false
   },
   "outputs": [
    {
     "name": "stdout",
     "output_type": "stream",
     "text": [
      "/home/ryan/Projects\n"
     ]
    }
   ],
   "source": [
    "import os\n",
    "import sys\n",
    "module_path = os.path.abspath(os.path.join('..'))\n",
    "print module_path\n",
    "if module_path not in sys.path:\n",
    "    sys.path.append(module_path)"
   ]
  },
  {
   "cell_type": "code",
   "execution_count": 3,
   "metadata": {
    "collapsed": true
   },
   "outputs": [],
   "source": [
    "import pandas as pd\n",
    "import numpy as np\n",
    "import pymongo\n",
    "import random\n",
    "from pymongo import MongoClient\n",
    "from datetime import datetime, timedelta\n",
    "from sshtunnel import SSHTunnelForwarder\n",
    "import sshtunnel\n",
    "pd.set_option('display.max_colwidth', -1)"
   ]
  },
  {
   "cell_type": "code",
   "execution_count": 4,
   "metadata": {
    "collapsed": true
   },
   "outputs": [],
   "source": [
    "def mongo_connect(mongo_port=27020):\n",
    "    # Try to connect to MongoDB,  exit if not successful.\n",
    "    try:\n",
    "        conn = MongoClient('localhost', mongo_port)\n",
    "        # print \"Connected successfully to MongoDB, instance created!\"\n",
    "\n",
    "    except pymongo.errors.ConnectionFailure, e:\n",
    "        print \"Could not connect to MongoDB: %s\" % e\n",
    "\n",
    "    name = 'SA_Voting_Data'\n",
    "\n",
    "    # create database on instance\n",
    "    if name in conn.database_names():\n",
    "        # print \"Found SA_Voiting_Data Database\"\n",
    "        # print \"Connecting to db...\"\n",
    "        db = conn[name]  # Create the database\n",
    "\n",
    "        # create one collection, called conversations\n",
    "        conversations = db.conversations_collection\n",
    "        raw = db.raw_collection\n",
    "        # print (\"Connected!\")\n",
    "    else:\n",
    "        # print \"Creating SA_Voting_Data Database\"\n",
    "        db = conn[name]  # create the database\n",
    "        conversations = db.conversations_collection\n",
    "        raw = db.raw_collection\n",
    "\n",
    "    # collection is a collection in the mongodb instance created above\n",
    "    # db is the database on the mongodb instance\n",
    "    # conn is the mongodb instance\n",
    "    return conn, db, conversations, raw\n",
    "\n",
    "def get_conversation(conversations):\n",
    "    header = ['content','from_addr','to_addr','transport_type','transport_name','timestamp','session_event']\n",
    "    df_conversations = pd.DataFrame()\n",
    "    \n",
    "    for c in conversations:\n",
    "        data = [c['content'],c['from_addr'],c['to_addr'],c['transport_type'],c[u'transport_name'], c['timestamp'],c['session_event']]\n",
    "        df_conversations = df_conversations.append([data])\n",
    "    \n",
    "    df_conversations.columns = header\n",
    "    df_conversations = df_conversations.set_index('timestamp')\n",
    "    return df_conversations\n",
    "\n",
    "\n",
    "def alpha(conversation_df):\n",
    "    \"\"\"average number of responses given per open session and total number of sessions\"\"\"\n",
    "    total_number_of_responses = len(conversation_df[conversation_df['session_event']=='resume'])\n",
    "    number_of_sessions = len(conversation_df[conversation_df['session_event']=='close'])\n",
    "    if number_of_sessions == 0:\n",
    "        return 0, 0 \n",
    "    else:\n",
    "        return float(total_number_of_responses)/float(number_of_sessions), float(number_of_sessions)\n",
    "\n",
    "\n",
    "def get_total_time_in_system(df):\n",
    "    if len(df[df['session_event'] == 'new']) != 0:\n",
    "        # start is the first instance we observe a new_connection\n",
    "        start = datetime.strptime(df[df['session_event'] == 'new'].index[0], TIME_STAMP_FORMAT)\n",
    "        # finish is the very last report of the system\n",
    "        finish = datetime.strptime(df.index[-1],TIME_STAMP_FORMAT)\n",
    "        delta = finish - start\n",
    "        return delta.seconds\n",
    "    else:\n",
    "        return 0\n",
    "\n",
    "\n",
    "def beta(conversation_df):\n",
    "    \"\"\"Returns total time interacting and total time in system \"\"\"\n",
    "    total_time_in_system = get_total_time_in_system(conversation_df)\n",
    "    total_time_interacting = 0.0\n",
    "    start_time = 0.0\n",
    "    finish_time = 0.0\n",
    "    in_session = False\n",
    "    for rows in conversation_df.iterrows():\n",
    "\n",
    "        if rows[1]['session_event'] == 'new':\n",
    "            start_time = datetime.strptime(rows[0],TIME_STAMP_FORMAT)\n",
    "            in_session = True\n",
    "\n",
    "        if rows[1]['session_event'] == 'close' and in_session is True:\n",
    "            finish_time = datetime.strptime(rows[0],TIME_STAMP_FORMAT)\n",
    "            delta = finish_time - start_time\n",
    "            time_interacting_in_session = delta.seconds\n",
    "            total_time_interacting += delta.seconds\n",
    "            in_session = False\n",
    "            \n",
    "    return total_time_interacting, total_time_in_system\n",
    "\n",
    "def surfing(conversation_df, address):\n",
    "    q = conversation_df[conversation_df['to_addr'] != address]['to_addr']\n",
    "    if len(set(q[q  != u'None' ])) > 1:\n",
    "        return True\n",
    "    else:\n",
    "        return False"
   ]
  },
  {
   "cell_type": "code",
   "execution_count": 5,
   "metadata": {
    "collapsed": true
   },
   "outputs": [],
   "source": [
    "# constants here\n",
    "CONNECT = mongo_connect\n",
    "TIME_STAMP_FORMAT = \"%Y-%m-%d %H:%M:%S.%f\""
   ]
  },
  {
   "cell_type": "code",
   "execution_count": 6,
   "metadata": {},
   "outputs": [],
   "source": [
    "conn, db, conversation, raw = CONNECT()\n",
    "try:\n",
    "    # if you want to make queries to the db, do it here\n",
    "    pois = list(conversation.distinct('poi'))\n",
    "    types_of_events = raw.distinct('session_event')\n",
    "finally:\n",
    "    conn.close()"
   ]
  },
  {
   "cell_type": "code",
   "execution_count": null,
   "metadata": {
    "collapsed": false,
    "scrolled": true
   },
   "outputs": [],
   "source": [
    "len(pois) # number out of 260k"
   ]
  },
  {
   "cell_type": "code",
   "execution_count": 10,
   "metadata": {},
   "outputs": [],
   "source": [
    "conn, db, conversation, raw = CONNECT()\n",
    "\n",
    "try:\n",
    "    # if you want to make queries to the db, do it here\n",
    "    conversations = list(conversation.find({'poi': { '$in': pois[0:1000] }}))\n",
    "finally:\n",
    "    conn.close()\n",
    "\n",
    "conversation_data_frame = get_conversation(conversations)"
   ]
  },
  {
   "cell_type": "code",
   "execution_count": 11,
   "metadata": {},
   "outputs": [
    {
     "data": {
      "text/plain": [
       "33309"
      ]
     },
     "execution_count": 11,
     "metadata": {},
     "output_type": "execute_result"
    }
   ],
   "source": [
    "len(conversations)"
   ]
  },
  {
   "cell_type": "code",
   "execution_count": null,
   "metadata": {
    "collapsed": true
   },
   "outputs": [],
   "source": [
    "# FOR TESTING\n",
    "# for sample in pois[0:1000]:\n",
    "#     sample_conversation = []\n",
    "#     for c in conversations:\n",
    "#         if c['poi'] == sample:\n",
    "#             sample_conversation.append(c)\n",
    "    \n",
    "#     conversation_data_frame = get_conversation(sample_conversation)\n",
    "    \n",
    "#     print len(conversation_data_frame)\n",
    "#     print alpha(conversation_data_frame)\n",
    "#     print beta(conversation_data_frame)\n",
    "#     print surfing(conversation_data_frame, sample)"
   ]
  },
  {
   "cell_type": "code",
   "execution_count": 12,
   "metadata": {
    "collapsed": true
   },
   "outputs": [],
   "source": [
    "import csv\n",
    "with open('out.csv', 'wb') as csvfile:\n",
    "    spamwriter = csv.writer(csvfile, delimiter=',',\n",
    "                            quotechar='|', quoting=csv.QUOTE_MINIMAL)\n",
    "    spamwriter.writerow(['id', 'length', 'a1', 'a2', 'b1', 'b2', 'surfing'])\n",
    "    \n",
    "    for sample in pois[0:1000]:\n",
    "        sample_conversation = []\n",
    "        for c in conversations:\n",
    "            if c['poi'] == sample:\n",
    "                sample_conversation.append(c)\n",
    "        my_id = sample\n",
    "        conversation_data_frame = get_conversation(sample_conversation)\n",
    "        a1, a2 = alpha(conversation_data_frame)\n",
    "        b1, b2 = beta(conversation_data_frame)\n",
    "        surfing_var = surfing(conversation_data_frame, sample)\n",
    "        length = len(conversation_data_frame)\n",
    "        spamwriter.writerow([my_id, length, a1, a2, b1, b2, surfing_var])"
   ]
  }
 ],
 "metadata": {
  "anaconda-cloud": {},
  "kernelspec": {
   "display_name": "Python [venv]",
   "language": "python",
   "name": "Python [venv]"
  },
  "language_info": {
   "codemirror_mode": {
    "name": "ipython",
    "version": 3
   },
   "file_extension": ".py",
   "mimetype": "text/x-python",
   "name": "python",
   "nbconvert_exporter": "python",
   "pygments_lexer": "ipython3",
   "version": "3.5.2"
  }
 },
 "nbformat": 4,
 "nbformat_minor": 1
}
